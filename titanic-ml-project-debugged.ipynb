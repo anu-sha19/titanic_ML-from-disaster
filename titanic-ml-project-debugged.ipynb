{
 "cells": [
  {
   "cell_type": "code",
   "execution_count": 1,
   "id": "97d17227",
   "metadata": {
    "_cell_guid": "b1076dfc-b9ad-4769-8c92-a6c4dae69d19",
    "_uuid": "8f2839f25d086af736a60e9eeb907d3b93b6e0e5",
    "execution": {
     "iopub.execute_input": "2024-11-20T02:25:09.889020Z",
     "iopub.status.busy": "2024-11-20T02:25:09.888462Z",
     "iopub.status.idle": "2024-11-20T02:25:11.084544Z",
     "shell.execute_reply": "2024-11-20T02:25:11.083007Z"
    },
    "papermill": {
     "duration": 1.2104,
     "end_time": "2024-11-20T02:25:11.087697",
     "exception": false,
     "start_time": "2024-11-20T02:25:09.877297",
     "status": "completed"
    },
    "tags": []
   },
   "outputs": [
    {
     "name": "stdout",
     "output_type": "stream",
     "text": [
      "/kaggle/input/titanic/train.csv\n",
      "/kaggle/input/titanic/test.csv\n",
      "/kaggle/input/titanic/gender_submission.csv\n"
     ]
    }
   ],
   "source": [
    "# This Python 3 environment comes with many helpful analytics libraries installed\n",
    "# It is defined by the kaggle/python Docker image: https://github.com/kaggle/docker-python\n",
    "# For example, here's several helpful packages to load\n",
    "\n",
    "import numpy as np # linear algebra\n",
    "import pandas as pd # data processing, CSV file I/O (e.g. pd.read_csv)\n",
    "\n",
    "# Input data files are available in the read-only \"../input/\" directory\n",
    "# For example, running this (by clicking run or pressing Shift+Enter) will list all files under the input directory\n",
    "\n",
    "import os\n",
    "for dirname, _, filenames in os.walk('/kaggle/input'):\n",
    "    for filename in filenames:\n",
    "        print(os.path.join(dirname, filename))\n",
    "\n",
    "# You can write up to 20GB to the current directory (/kaggle/working/) that gets preserved as output when you create a version using \"Save & Run All\" \n",
    "# You can also write temporary files to /kaggle/temp/, but they won't be saved outside of the current session"
   ]
  },
  {
   "cell_type": "code",
   "execution_count": 2,
   "id": "f7bea661",
   "metadata": {
    "execution": {
     "iopub.execute_input": "2024-11-20T02:25:11.108173Z",
     "iopub.status.busy": "2024-11-20T02:25:11.107664Z",
     "iopub.status.idle": "2024-11-20T02:25:11.142156Z",
     "shell.execute_reply": "2024-11-20T02:25:11.140787Z"
    },
    "papermill": {
     "duration": 0.048582,
     "end_time": "2024-11-20T02:25:11.144844",
     "exception": false,
     "start_time": "2024-11-20T02:25:11.096262",
     "status": "completed"
    },
    "tags": []
   },
   "outputs": [],
   "source": [
    "train = pd.read_csv('/kaggle/input/titanic/train.csv')\n",
    "test = pd.read_csv('/kaggle/input/titanic/test.csv')"
   ]
  },
  {
   "cell_type": "code",
   "execution_count": 3,
   "id": "a916f4da",
   "metadata": {
    "execution": {
     "iopub.execute_input": "2024-11-20T02:25:11.164250Z",
     "iopub.status.busy": "2024-11-20T02:25:11.163834Z",
     "iopub.status.idle": "2024-11-20T02:25:11.197479Z",
     "shell.execute_reply": "2024-11-20T02:25:11.196254Z"
    },
    "papermill": {
     "duration": 0.04774,
     "end_time": "2024-11-20T02:25:11.201195",
     "exception": false,
     "start_time": "2024-11-20T02:25:11.153455",
     "status": "completed"
    },
    "tags": []
   },
   "outputs": [
    {
     "data": {
      "text/html": [
       "<div>\n",
       "<style scoped>\n",
       "    .dataframe tbody tr th:only-of-type {\n",
       "        vertical-align: middle;\n",
       "    }\n",
       "\n",
       "    .dataframe tbody tr th {\n",
       "        vertical-align: top;\n",
       "    }\n",
       "\n",
       "    .dataframe thead th {\n",
       "        text-align: right;\n",
       "    }\n",
       "</style>\n",
       "<table border=\"1\" class=\"dataframe\">\n",
       "  <thead>\n",
       "    <tr style=\"text-align: right;\">\n",
       "      <th></th>\n",
       "      <th>PassengerId</th>\n",
       "      <th>Survived</th>\n",
       "      <th>Pclass</th>\n",
       "      <th>Name</th>\n",
       "      <th>Sex</th>\n",
       "      <th>Age</th>\n",
       "      <th>SibSp</th>\n",
       "      <th>Parch</th>\n",
       "      <th>Ticket</th>\n",
       "      <th>Fare</th>\n",
       "      <th>Cabin</th>\n",
       "      <th>Embarked</th>\n",
       "    </tr>\n",
       "  </thead>\n",
       "  <tbody>\n",
       "    <tr>\n",
       "      <th>0</th>\n",
       "      <td>1</td>\n",
       "      <td>0</td>\n",
       "      <td>3</td>\n",
       "      <td>Braund, Mr. Owen Harris</td>\n",
       "      <td>male</td>\n",
       "      <td>22.0</td>\n",
       "      <td>1</td>\n",
       "      <td>0</td>\n",
       "      <td>A/5 21171</td>\n",
       "      <td>7.2500</td>\n",
       "      <td>NaN</td>\n",
       "      <td>S</td>\n",
       "    </tr>\n",
       "    <tr>\n",
       "      <th>1</th>\n",
       "      <td>2</td>\n",
       "      <td>1</td>\n",
       "      <td>1</td>\n",
       "      <td>Cumings, Mrs. John Bradley (Florence Briggs Th...</td>\n",
       "      <td>female</td>\n",
       "      <td>38.0</td>\n",
       "      <td>1</td>\n",
       "      <td>0</td>\n",
       "      <td>PC 17599</td>\n",
       "      <td>71.2833</td>\n",
       "      <td>C85</td>\n",
       "      <td>C</td>\n",
       "    </tr>\n",
       "    <tr>\n",
       "      <th>2</th>\n",
       "      <td>3</td>\n",
       "      <td>1</td>\n",
       "      <td>3</td>\n",
       "      <td>Heikkinen, Miss. Laina</td>\n",
       "      <td>female</td>\n",
       "      <td>26.0</td>\n",
       "      <td>0</td>\n",
       "      <td>0</td>\n",
       "      <td>STON/O2. 3101282</td>\n",
       "      <td>7.9250</td>\n",
       "      <td>NaN</td>\n",
       "      <td>S</td>\n",
       "    </tr>\n",
       "    <tr>\n",
       "      <th>3</th>\n",
       "      <td>4</td>\n",
       "      <td>1</td>\n",
       "      <td>1</td>\n",
       "      <td>Futrelle, Mrs. Jacques Heath (Lily May Peel)</td>\n",
       "      <td>female</td>\n",
       "      <td>35.0</td>\n",
       "      <td>1</td>\n",
       "      <td>0</td>\n",
       "      <td>113803</td>\n",
       "      <td>53.1000</td>\n",
       "      <td>C123</td>\n",
       "      <td>S</td>\n",
       "    </tr>\n",
       "    <tr>\n",
       "      <th>4</th>\n",
       "      <td>5</td>\n",
       "      <td>0</td>\n",
       "      <td>3</td>\n",
       "      <td>Allen, Mr. William Henry</td>\n",
       "      <td>male</td>\n",
       "      <td>35.0</td>\n",
       "      <td>0</td>\n",
       "      <td>0</td>\n",
       "      <td>373450</td>\n",
       "      <td>8.0500</td>\n",
       "      <td>NaN</td>\n",
       "      <td>S</td>\n",
       "    </tr>\n",
       "  </tbody>\n",
       "</table>\n",
       "</div>"
      ],
      "text/plain": [
       "   PassengerId  Survived  Pclass  \\\n",
       "0            1         0       3   \n",
       "1            2         1       1   \n",
       "2            3         1       3   \n",
       "3            4         1       1   \n",
       "4            5         0       3   \n",
       "\n",
       "                                                Name     Sex   Age  SibSp  \\\n",
       "0                            Braund, Mr. Owen Harris    male  22.0      1   \n",
       "1  Cumings, Mrs. John Bradley (Florence Briggs Th...  female  38.0      1   \n",
       "2                             Heikkinen, Miss. Laina  female  26.0      0   \n",
       "3       Futrelle, Mrs. Jacques Heath (Lily May Peel)  female  35.0      1   \n",
       "4                           Allen, Mr. William Henry    male  35.0      0   \n",
       "\n",
       "   Parch            Ticket     Fare Cabin Embarked  \n",
       "0      0         A/5 21171   7.2500   NaN        S  \n",
       "1      0          PC 17599  71.2833   C85        C  \n",
       "2      0  STON/O2. 3101282   7.9250   NaN        S  \n",
       "3      0            113803  53.1000  C123        S  \n",
       "4      0            373450   8.0500   NaN        S  "
      ]
     },
     "execution_count": 3,
     "metadata": {},
     "output_type": "execute_result"
    }
   ],
   "source": [
    "train.head()"
   ]
  },
  {
   "cell_type": "code",
   "execution_count": 4,
   "id": "7acf7e17",
   "metadata": {
    "execution": {
     "iopub.execute_input": "2024-11-20T02:25:11.221221Z",
     "iopub.status.busy": "2024-11-20T02:25:11.220797Z",
     "iopub.status.idle": "2024-11-20T02:25:11.236226Z",
     "shell.execute_reply": "2024-11-20T02:25:11.235031Z"
    },
    "papermill": {
     "duration": 0.028226,
     "end_time": "2024-11-20T02:25:11.238837",
     "exception": false,
     "start_time": "2024-11-20T02:25:11.210611",
     "status": "completed"
    },
    "tags": []
   },
   "outputs": [
    {
     "data": {
      "text/html": [
       "<div>\n",
       "<style scoped>\n",
       "    .dataframe tbody tr th:only-of-type {\n",
       "        vertical-align: middle;\n",
       "    }\n",
       "\n",
       "    .dataframe tbody tr th {\n",
       "        vertical-align: top;\n",
       "    }\n",
       "\n",
       "    .dataframe thead th {\n",
       "        text-align: right;\n",
       "    }\n",
       "</style>\n",
       "<table border=\"1\" class=\"dataframe\">\n",
       "  <thead>\n",
       "    <tr style=\"text-align: right;\">\n",
       "      <th></th>\n",
       "      <th>PassengerId</th>\n",
       "      <th>Pclass</th>\n",
       "      <th>Name</th>\n",
       "      <th>Sex</th>\n",
       "      <th>Age</th>\n",
       "      <th>SibSp</th>\n",
       "      <th>Parch</th>\n",
       "      <th>Ticket</th>\n",
       "      <th>Fare</th>\n",
       "      <th>Cabin</th>\n",
       "      <th>Embarked</th>\n",
       "    </tr>\n",
       "  </thead>\n",
       "  <tbody>\n",
       "    <tr>\n",
       "      <th>0</th>\n",
       "      <td>892</td>\n",
       "      <td>3</td>\n",
       "      <td>Kelly, Mr. James</td>\n",
       "      <td>male</td>\n",
       "      <td>34.5</td>\n",
       "      <td>0</td>\n",
       "      <td>0</td>\n",
       "      <td>330911</td>\n",
       "      <td>7.8292</td>\n",
       "      <td>NaN</td>\n",
       "      <td>Q</td>\n",
       "    </tr>\n",
       "    <tr>\n",
       "      <th>1</th>\n",
       "      <td>893</td>\n",
       "      <td>3</td>\n",
       "      <td>Wilkes, Mrs. James (Ellen Needs)</td>\n",
       "      <td>female</td>\n",
       "      <td>47.0</td>\n",
       "      <td>1</td>\n",
       "      <td>0</td>\n",
       "      <td>363272</td>\n",
       "      <td>7.0000</td>\n",
       "      <td>NaN</td>\n",
       "      <td>S</td>\n",
       "    </tr>\n",
       "    <tr>\n",
       "      <th>2</th>\n",
       "      <td>894</td>\n",
       "      <td>2</td>\n",
       "      <td>Myles, Mr. Thomas Francis</td>\n",
       "      <td>male</td>\n",
       "      <td>62.0</td>\n",
       "      <td>0</td>\n",
       "      <td>0</td>\n",
       "      <td>240276</td>\n",
       "      <td>9.6875</td>\n",
       "      <td>NaN</td>\n",
       "      <td>Q</td>\n",
       "    </tr>\n",
       "    <tr>\n",
       "      <th>3</th>\n",
       "      <td>895</td>\n",
       "      <td>3</td>\n",
       "      <td>Wirz, Mr. Albert</td>\n",
       "      <td>male</td>\n",
       "      <td>27.0</td>\n",
       "      <td>0</td>\n",
       "      <td>0</td>\n",
       "      <td>315154</td>\n",
       "      <td>8.6625</td>\n",
       "      <td>NaN</td>\n",
       "      <td>S</td>\n",
       "    </tr>\n",
       "    <tr>\n",
       "      <th>4</th>\n",
       "      <td>896</td>\n",
       "      <td>3</td>\n",
       "      <td>Hirvonen, Mrs. Alexander (Helga E Lindqvist)</td>\n",
       "      <td>female</td>\n",
       "      <td>22.0</td>\n",
       "      <td>1</td>\n",
       "      <td>1</td>\n",
       "      <td>3101298</td>\n",
       "      <td>12.2875</td>\n",
       "      <td>NaN</td>\n",
       "      <td>S</td>\n",
       "    </tr>\n",
       "  </tbody>\n",
       "</table>\n",
       "</div>"
      ],
      "text/plain": [
       "   PassengerId  Pclass                                          Name     Sex  \\\n",
       "0          892       3                              Kelly, Mr. James    male   \n",
       "1          893       3              Wilkes, Mrs. James (Ellen Needs)  female   \n",
       "2          894       2                     Myles, Mr. Thomas Francis    male   \n",
       "3          895       3                              Wirz, Mr. Albert    male   \n",
       "4          896       3  Hirvonen, Mrs. Alexander (Helga E Lindqvist)  female   \n",
       "\n",
       "    Age  SibSp  Parch   Ticket     Fare Cabin Embarked  \n",
       "0  34.5      0      0   330911   7.8292   NaN        Q  \n",
       "1  47.0      1      0   363272   7.0000   NaN        S  \n",
       "2  62.0      0      0   240276   9.6875   NaN        Q  \n",
       "3  27.0      0      0   315154   8.6625   NaN        S  \n",
       "4  22.0      1      1  3101298  12.2875   NaN        S  "
      ]
     },
     "execution_count": 4,
     "metadata": {},
     "output_type": "execute_result"
    }
   ],
   "source": [
    "test.head()"
   ]
  },
  {
   "cell_type": "code",
   "execution_count": 5,
   "id": "dd6a3eae",
   "metadata": {
    "execution": {
     "iopub.execute_input": "2024-11-20T02:25:11.258366Z",
     "iopub.status.busy": "2024-11-20T02:25:11.257505Z",
     "iopub.status.idle": "2024-11-20T02:25:11.272318Z",
     "shell.execute_reply": "2024-11-20T02:25:11.271163Z"
    },
    "papermill": {
     "duration": 0.027149,
     "end_time": "2024-11-20T02:25:11.274644",
     "exception": false,
     "start_time": "2024-11-20T02:25:11.247495",
     "status": "completed"
    },
    "tags": []
   },
   "outputs": [
    {
     "data": {
      "text/plain": [
       "0.7420382165605095"
      ]
     },
     "execution_count": 5,
     "metadata": {},
     "output_type": "execute_result"
    }
   ],
   "source": [
    "#checking the survival rate based on gender because the sample gender_submission csv hypothesizes that all women survive and all men die\n",
    "women_survive = train.loc[train.Sex=='female'][\"Survived\"]\n",
    "percent_women_survived = sum(women_survive)/len(women_survive)\n",
    "percent_women_survived\n"
   ]
  },
  {
   "cell_type": "code",
   "execution_count": 6,
   "id": "bec2bb87",
   "metadata": {
    "execution": {
     "iopub.execute_input": "2024-11-20T02:25:11.293924Z",
     "iopub.status.busy": "2024-11-20T02:25:11.293535Z",
     "iopub.status.idle": "2024-11-20T02:25:11.303210Z",
     "shell.execute_reply": "2024-11-20T02:25:11.301823Z"
    },
    "papermill": {
     "duration": 0.022101,
     "end_time": "2024-11-20T02:25:11.305663",
     "exception": false,
     "start_time": "2024-11-20T02:25:11.283562",
     "status": "completed"
    },
    "tags": []
   },
   "outputs": [
    {
     "data": {
      "text/plain": [
       "0.18890814558058924"
      ]
     },
     "execution_count": 6,
     "metadata": {},
     "output_type": "execute_result"
    }
   ],
   "source": [
    "male_survive = train.loc[train.Sex =='male']['Survived']\n",
    "percent_male_survived = sum(male_survive)/len(male_survive)\n",
    "percent_male_survived\n"
   ]
  },
  {
   "cell_type": "code",
   "execution_count": 7,
   "id": "d21cc262",
   "metadata": {
    "execution": {
     "iopub.execute_input": "2024-11-20T02:25:11.325752Z",
     "iopub.status.busy": "2024-11-20T02:25:11.325299Z",
     "iopub.status.idle": "2024-11-20T02:25:11.358067Z",
     "shell.execute_reply": "2024-11-20T02:25:11.356321Z"
    },
    "papermill": {
     "duration": 0.046143,
     "end_time": "2024-11-20T02:25:11.361153",
     "exception": false,
     "start_time": "2024-11-20T02:25:11.315010",
     "status": "completed"
    },
    "tags": []
   },
   "outputs": [
    {
     "name": "stdout",
     "output_type": "stream",
     "text": [
      "<class 'pandas.core.frame.DataFrame'>\n",
      "RangeIndex: 891 entries, 0 to 890\n",
      "Data columns (total 12 columns):\n",
      " #   Column       Non-Null Count  Dtype  \n",
      "---  ------       --------------  -----  \n",
      " 0   PassengerId  891 non-null    int64  \n",
      " 1   Survived     891 non-null    int64  \n",
      " 2   Pclass       891 non-null    int64  \n",
      " 3   Name         891 non-null    object \n",
      " 4   Sex          891 non-null    object \n",
      " 5   Age          714 non-null    float64\n",
      " 6   SibSp        891 non-null    int64  \n",
      " 7   Parch        891 non-null    int64  \n",
      " 8   Ticket       891 non-null    object \n",
      " 9   Fare         891 non-null    float64\n",
      " 10  Cabin        204 non-null    object \n",
      " 11  Embarked     889 non-null    object \n",
      "dtypes: float64(2), int64(5), object(5)\n",
      "memory usage: 83.7+ KB\n"
     ]
    }
   ],
   "source": [
    "#We can see that almost 75% of the women on board survived whereas only about 19% of men survived. Gender is a big factor foir survival. \n",
    "train.info()"
   ]
  },
  {
   "cell_type": "code",
   "execution_count": 8,
   "id": "c5a9f81e",
   "metadata": {
    "execution": {
     "iopub.execute_input": "2024-11-20T02:25:11.381455Z",
     "iopub.status.busy": "2024-11-20T02:25:11.381078Z",
     "iopub.status.idle": "2024-11-20T02:25:11.418284Z",
     "shell.execute_reply": "2024-11-20T02:25:11.417004Z"
    },
    "papermill": {
     "duration": 0.050445,
     "end_time": "2024-11-20T02:25:11.420644",
     "exception": false,
     "start_time": "2024-11-20T02:25:11.370199",
     "status": "completed"
    },
    "tags": []
   },
   "outputs": [
    {
     "data": {
      "text/html": [
       "<div>\n",
       "<style scoped>\n",
       "    .dataframe tbody tr th:only-of-type {\n",
       "        vertical-align: middle;\n",
       "    }\n",
       "\n",
       "    .dataframe tbody tr th {\n",
       "        vertical-align: top;\n",
       "    }\n",
       "\n",
       "    .dataframe thead th {\n",
       "        text-align: right;\n",
       "    }\n",
       "</style>\n",
       "<table border=\"1\" class=\"dataframe\">\n",
       "  <thead>\n",
       "    <tr style=\"text-align: right;\">\n",
       "      <th></th>\n",
       "      <th>PassengerId</th>\n",
       "      <th>Survived</th>\n",
       "      <th>Pclass</th>\n",
       "      <th>Age</th>\n",
       "      <th>SibSp</th>\n",
       "      <th>Parch</th>\n",
       "      <th>Fare</th>\n",
       "    </tr>\n",
       "  </thead>\n",
       "  <tbody>\n",
       "    <tr>\n",
       "      <th>count</th>\n",
       "      <td>891.000000</td>\n",
       "      <td>891.000000</td>\n",
       "      <td>891.000000</td>\n",
       "      <td>714.000000</td>\n",
       "      <td>891.000000</td>\n",
       "      <td>891.000000</td>\n",
       "      <td>891.000000</td>\n",
       "    </tr>\n",
       "    <tr>\n",
       "      <th>mean</th>\n",
       "      <td>446.000000</td>\n",
       "      <td>0.383838</td>\n",
       "      <td>2.308642</td>\n",
       "      <td>29.699118</td>\n",
       "      <td>0.523008</td>\n",
       "      <td>0.381594</td>\n",
       "      <td>32.204208</td>\n",
       "    </tr>\n",
       "    <tr>\n",
       "      <th>std</th>\n",
       "      <td>257.353842</td>\n",
       "      <td>0.486592</td>\n",
       "      <td>0.836071</td>\n",
       "      <td>14.526497</td>\n",
       "      <td>1.102743</td>\n",
       "      <td>0.806057</td>\n",
       "      <td>49.693429</td>\n",
       "    </tr>\n",
       "    <tr>\n",
       "      <th>min</th>\n",
       "      <td>1.000000</td>\n",
       "      <td>0.000000</td>\n",
       "      <td>1.000000</td>\n",
       "      <td>0.420000</td>\n",
       "      <td>0.000000</td>\n",
       "      <td>0.000000</td>\n",
       "      <td>0.000000</td>\n",
       "    </tr>\n",
       "    <tr>\n",
       "      <th>25%</th>\n",
       "      <td>223.500000</td>\n",
       "      <td>0.000000</td>\n",
       "      <td>2.000000</td>\n",
       "      <td>20.125000</td>\n",
       "      <td>0.000000</td>\n",
       "      <td>0.000000</td>\n",
       "      <td>7.910400</td>\n",
       "    </tr>\n",
       "    <tr>\n",
       "      <th>50%</th>\n",
       "      <td>446.000000</td>\n",
       "      <td>0.000000</td>\n",
       "      <td>3.000000</td>\n",
       "      <td>28.000000</td>\n",
       "      <td>0.000000</td>\n",
       "      <td>0.000000</td>\n",
       "      <td>14.454200</td>\n",
       "    </tr>\n",
       "    <tr>\n",
       "      <th>75%</th>\n",
       "      <td>668.500000</td>\n",
       "      <td>1.000000</td>\n",
       "      <td>3.000000</td>\n",
       "      <td>38.000000</td>\n",
       "      <td>1.000000</td>\n",
       "      <td>0.000000</td>\n",
       "      <td>31.000000</td>\n",
       "    </tr>\n",
       "    <tr>\n",
       "      <th>max</th>\n",
       "      <td>891.000000</td>\n",
       "      <td>1.000000</td>\n",
       "      <td>3.000000</td>\n",
       "      <td>80.000000</td>\n",
       "      <td>8.000000</td>\n",
       "      <td>6.000000</td>\n",
       "      <td>512.329200</td>\n",
       "    </tr>\n",
       "  </tbody>\n",
       "</table>\n",
       "</div>"
      ],
      "text/plain": [
       "       PassengerId    Survived      Pclass         Age       SibSp  \\\n",
       "count   891.000000  891.000000  891.000000  714.000000  891.000000   \n",
       "mean    446.000000    0.383838    2.308642   29.699118    0.523008   \n",
       "std     257.353842    0.486592    0.836071   14.526497    1.102743   \n",
       "min       1.000000    0.000000    1.000000    0.420000    0.000000   \n",
       "25%     223.500000    0.000000    2.000000   20.125000    0.000000   \n",
       "50%     446.000000    0.000000    3.000000   28.000000    0.000000   \n",
       "75%     668.500000    1.000000    3.000000   38.000000    1.000000   \n",
       "max     891.000000    1.000000    3.000000   80.000000    8.000000   \n",
       "\n",
       "            Parch        Fare  \n",
       "count  891.000000  891.000000  \n",
       "mean     0.381594   32.204208  \n",
       "std      0.806057   49.693429  \n",
       "min      0.000000    0.000000  \n",
       "25%      0.000000    7.910400  \n",
       "50%      0.000000   14.454200  \n",
       "75%      0.000000   31.000000  \n",
       "max      6.000000  512.329200  "
      ]
     },
     "execution_count": 8,
     "metadata": {},
     "output_type": "execute_result"
    }
   ],
   "source": [
    "train.describe()"
   ]
  },
  {
   "cell_type": "code",
   "execution_count": 9,
   "id": "7f376abf",
   "metadata": {
    "execution": {
     "iopub.execute_input": "2024-11-20T02:25:11.441767Z",
     "iopub.status.busy": "2024-11-20T02:25:11.440630Z",
     "iopub.status.idle": "2024-11-20T02:25:11.463852Z",
     "shell.execute_reply": "2024-11-20T02:25:11.462575Z"
    },
    "papermill": {
     "duration": 0.03637,
     "end_time": "2024-11-20T02:25:11.466405",
     "exception": false,
     "start_time": "2024-11-20T02:25:11.430035",
     "status": "completed"
    },
    "tags": []
   },
   "outputs": [
    {
     "data": {
      "text/plain": [
       "Index(['PassengerId', 'Survived', 'Pclass', 'Age', 'SibSp', 'Parch', 'Fare'], dtype='object')"
      ]
     },
     "execution_count": 9,
     "metadata": {},
     "output_type": "execute_result"
    }
   ],
   "source": [
    "train.describe().columns"
   ]
  },
  {
   "cell_type": "code",
   "execution_count": 10,
   "id": "ab16f99a",
   "metadata": {
    "execution": {
     "iopub.execute_input": "2024-11-20T02:25:11.489875Z",
     "iopub.status.busy": "2024-11-20T02:25:11.488751Z",
     "iopub.status.idle": "2024-11-20T02:25:11.500412Z",
     "shell.execute_reply": "2024-11-20T02:25:11.499229Z"
    },
    "papermill": {
     "duration": 0.026899,
     "end_time": "2024-11-20T02:25:11.503076",
     "exception": false,
     "start_time": "2024-11-20T02:25:11.476177",
     "status": "completed"
    },
    "tags": []
   },
   "outputs": [],
   "source": [
    "# check numerical and categorical data \n",
    "df_numerical = train[['Age', 'SibSp', 'Parch', 'Fare']]\n",
    "df_categorical = train[['Survived', 'Pclass', 'Sex', 'Ticket', 'Cabin', 'Embarked']]\\\n",
    "\n"
   ]
  },
  {
   "cell_type": "code",
   "execution_count": 11,
   "id": "cfcacfd8",
   "metadata": {
    "execution": {
     "iopub.execute_input": "2024-11-20T02:25:11.523474Z",
     "iopub.status.busy": "2024-11-20T02:25:11.523067Z",
     "iopub.status.idle": "2024-11-20T02:25:12.590856Z",
     "shell.execute_reply": "2024-11-20T02:25:12.589244Z"
    },
    "papermill": {
     "duration": 1.08126,
     "end_time": "2024-11-20T02:25:12.593569",
     "exception": false,
     "start_time": "2024-11-20T02:25:11.512309",
     "status": "completed"
    },
    "tags": []
   },
   "outputs": [
    {
     "data": {
      "image/png": "[encoded data removed]",
      "text/plain": [
       "<Figure size 640x480 with 1 Axes>"
      ]
     },
     "metadata": {},
     "output_type": "display_data"
    },
    {
     "data": {
      "image/png": "[encoded data removed]",
      "text/plain": [
       "<Figure size 640x480 with 1 Axes>"
      ]
     },
     "metadata": {},
     "output_type": "display_data"
    },
    {
     "data": {
      "image/png": "[encoded data removed]",
      "text/plain": [
       "<Figure size 640x480 with 1 Axes>"
      ]
     },
     "metadata": {},
     "output_type": "display_data"
    },
    {
     "data": {
      "image/png": "[encoded data removed]",
      "text/plain": [
       "<Figure size 640x480 with 1 Axes>"
      ]
     },
     "metadata": {},
     "output_type": "display_data"
    }
   ],
   "source": [
    "from matplotlib import pyplot as plt\n",
    "\n",
    "for i in df_numerical.columns:\n",
    "    plt.hist(df_numerical[i])\n",
    "    plt.title(i)\n",
    "    plt.show()"
   ]
  },
  {
   "cell_type": "code",
   "execution_count": 12,
   "id": "76243a77",
   "metadata": {
    "execution": {
     "iopub.execute_input": "2024-11-20T02:25:12.616957Z",
     "iopub.status.busy": "2024-11-20T02:25:12.616519Z",
     "iopub.status.idle": "2024-11-20T02:25:12.621855Z",
     "shell.execute_reply": "2024-11-20T02:25:12.620385Z"
    },
    "papermill": {
     "duration": 0.021032,
     "end_time": "2024-11-20T02:25:12.625145",
     "exception": false,
     "start_time": "2024-11-20T02:25:12.604113",
     "status": "completed"
    },
    "tags": []
   },
   "outputs": [],
   "source": [
    "#Age follows a normal distribution whereas others don't "
   ]
  },
  {
   "cell_type": "code",
   "execution_count": 13,
   "id": "593dd690",
   "metadata": {
    "execution": {
     "iopub.execute_input": "2024-11-20T02:25:12.655665Z",
     "iopub.status.busy": "2024-11-20T02:25:12.655018Z",
     "iopub.status.idle": "2024-11-20T02:25:12.675942Z",
     "shell.execute_reply": "2024-11-20T02:25:12.674775Z"
    },
    "papermill": {
     "duration": 0.036825,
     "end_time": "2024-11-20T02:25:12.678223",
     "exception": false,
     "start_time": "2024-11-20T02:25:12.641398",
     "status": "completed"
    },
    "tags": []
   },
   "outputs": [
    {
     "data": {
      "text/html": [
       "<div>\n",
       "<style scoped>\n",
       "    .dataframe tbody tr th:only-of-type {\n",
       "        vertical-align: middle;\n",
       "    }\n",
       "\n",
       "    .dataframe tbody tr th {\n",
       "        vertical-align: top;\n",
       "    }\n",
       "\n",
       "    .dataframe thead th {\n",
       "        text-align: right;\n",
       "    }\n",
       "</style>\n",
       "<table border=\"1\" class=\"dataframe\">\n",
       "  <thead>\n",
       "    <tr style=\"text-align: right;\">\n",
       "      <th></th>\n",
       "      <th>Age</th>\n",
       "      <th>SibSp</th>\n",
       "      <th>Parch</th>\n",
       "      <th>Fare</th>\n",
       "    </tr>\n",
       "  </thead>\n",
       "  <tbody>\n",
       "    <tr>\n",
       "      <th>Age</th>\n",
       "      <td>1.000000</td>\n",
       "      <td>-0.308247</td>\n",
       "      <td>-0.189119</td>\n",
       "      <td>0.096067</td>\n",
       "    </tr>\n",
       "    <tr>\n",
       "      <th>SibSp</th>\n",
       "      <td>-0.308247</td>\n",
       "      <td>1.000000</td>\n",
       "      <td>0.414838</td>\n",
       "      <td>0.159651</td>\n",
       "    </tr>\n",
       "    <tr>\n",
       "      <th>Parch</th>\n",
       "      <td>-0.189119</td>\n",
       "      <td>0.414838</td>\n",
       "      <td>1.000000</td>\n",
       "      <td>0.216225</td>\n",
       "    </tr>\n",
       "    <tr>\n",
       "      <th>Fare</th>\n",
       "      <td>0.096067</td>\n",
       "      <td>0.159651</td>\n",
       "      <td>0.216225</td>\n",
       "      <td>1.000000</td>\n",
       "    </tr>\n",
       "  </tbody>\n",
       "</table>\n",
       "</div>"
      ],
      "text/plain": [
       "            Age     SibSp     Parch      Fare\n",
       "Age    1.000000 -0.308247 -0.189119  0.096067\n",
       "SibSp -0.308247  1.000000  0.414838  0.159651\n",
       "Parch -0.189119  0.414838  1.000000  0.216225\n",
       "Fare   0.096067  0.159651  0.216225  1.000000"
      ]
     },
     "execution_count": 13,
     "metadata": {},
     "output_type": "execute_result"
    }
   ],
   "source": [
    "df_numerical.corr()"
   ]
  },
  {
   "cell_type": "code",
   "execution_count": 14,
   "id": "f1b1189e",
   "metadata": {
    "execution": {
     "iopub.execute_input": "2024-11-20T02:25:12.702500Z",
     "iopub.status.busy": "2024-11-20T02:25:12.701880Z",
     "iopub.status.idle": "2024-11-20T02:25:15.323830Z",
     "shell.execute_reply": "2024-11-20T02:25:15.322472Z"
    },
    "papermill": {
     "duration": 2.637502,
     "end_time": "2024-11-20T02:25:15.326651",
     "exception": false,
     "start_time": "2024-11-20T02:25:12.689149",
     "status": "completed"
    },
    "tags": []
   },
   "outputs": [
    {
     "data": {
      "text/plain": [
       "<Axes: >"
      ]
     },
     "execution_count": 14,
     "metadata": {},
     "output_type": "execute_result"
    },
    {
     "data": {
      "image/png": "[encoded data removed]",
      "text/plain": [
       "<Figure size 640x480 with 2 Axes>"
      ]
     },
     "metadata": {},
     "output_type": "display_data"
    }
   ],
   "source": [
    "import seaborn as sns\n",
    "sns.heatmap(df_numerical.corr())"
   ]
  },
  {
   "cell_type": "code",
   "execution_count": 15,
   "id": "f86fc41a",
   "metadata": {
    "execution": {
     "iopub.execute_input": "2024-11-20T02:25:15.350786Z",
     "iopub.status.busy": "2024-11-20T02:25:15.350170Z",
     "iopub.status.idle": "2024-11-20T02:25:15.371804Z",
     "shell.execute_reply": "2024-11-20T02:25:15.370471Z"
    },
    "papermill": {
     "duration": 0.036547,
     "end_time": "2024-11-20T02:25:15.374196",
     "exception": false,
     "start_time": "2024-11-20T02:25:15.337649",
     "status": "completed"
    },
    "tags": []
   },
   "outputs": [
    {
     "data": {
      "text/html": [
       "<div>\n",
       "<style scoped>\n",
       "    .dataframe tbody tr th:only-of-type {\n",
       "        vertical-align: middle;\n",
       "    }\n",
       "\n",
       "    .dataframe tbody tr th {\n",
       "        vertical-align: top;\n",
       "    }\n",
       "\n",
       "    .dataframe thead th {\n",
       "        text-align: right;\n",
       "    }\n",
       "</style>\n",
       "<table border=\"1\" class=\"dataframe\">\n",
       "  <thead>\n",
       "    <tr style=\"text-align: right;\">\n",
       "      <th></th>\n",
       "      <th>Age</th>\n",
       "      <th>Fare</th>\n",
       "      <th>Parch</th>\n",
       "      <th>SibSp</th>\n",
       "    </tr>\n",
       "    <tr>\n",
       "      <th>Survived</th>\n",
       "      <th></th>\n",
       "      <th></th>\n",
       "      <th></th>\n",
       "      <th></th>\n",
       "    </tr>\n",
       "  </thead>\n",
       "  <tbody>\n",
       "    <tr>\n",
       "      <th>0</th>\n",
       "      <td>30.626179</td>\n",
       "      <td>22.117887</td>\n",
       "      <td>0.329690</td>\n",
       "      <td>0.553734</td>\n",
       "    </tr>\n",
       "    <tr>\n",
       "      <th>1</th>\n",
       "      <td>28.343690</td>\n",
       "      <td>48.395408</td>\n",
       "      <td>0.464912</td>\n",
       "      <td>0.473684</td>\n",
       "    </tr>\n",
       "  </tbody>\n",
       "</table>\n",
       "</div>"
      ],
      "text/plain": [
       "                Age       Fare     Parch     SibSp\n",
       "Survived                                          \n",
       "0         30.626179  22.117887  0.329690  0.553734\n",
       "1         28.343690  48.395408  0.464912  0.473684"
      ]
     },
     "execution_count": 15,
     "metadata": {},
     "output_type": "execute_result"
    }
   ],
   "source": [
    "# survi8val raters across Age, SiSp, Parch and Fare\n",
    "pd.pivot_table(train, index = \"Survived\", values = ['Age', 'SibSp', 'Parch', 'Fare'])\n",
    "\n",
    "#shows thast young and proabably rich people who paid more survived if you have parents, they might have put you first so more chance of survical.\n",
    "#If you have siblings or children less chance of survival"
   ]
  },
  {
   "cell_type": "code",
   "execution_count": 16,
   "id": "50f3f6f9",
   "metadata": {
    "execution": {
     "iopub.execute_input": "2024-11-20T02:25:15.398326Z",
     "iopub.status.busy": "2024-11-20T02:25:15.397956Z",
     "iopub.status.idle": "2024-11-20T02:25:23.044292Z",
     "shell.execute_reply": "2024-11-20T02:25:23.043083Z"
    },
    "papermill": {
     "duration": 7.661512,
     "end_time": "2024-11-20T02:25:23.046763",
     "exception": false,
     "start_time": "2024-11-20T02:25:15.385251",
     "status": "completed"
    },
    "tags": []
   },
   "outputs": [
    {
     "data": {
      "image/png": "[encoded data removed]",
      "text/plain": [
       "<Figure size 640x480 with 1 Axes>"
      ]
     },
     "metadata": {},
     "output_type": "display_data"
    },
    {
     "data": {
      "image/png": "[encoded data removed]",
      "text/plain": [
       "<Figure size 640x480 with 1 Axes>"
      ]
     },
     "metadata": {},
     "output_type": "display_data"
    },
    {
     "data": {
      "image/png": "[encoded data removed]",
      "text/plain": [
       "<Figure size 640x480 with 1 Axes>"
      ]
     },
     "metadata": {},
     "output_type": "display_data"
    },
    {
     "data": {
      "image/png": "[encoded data removed]",
      "text/plain": [
       "<Figure size 640x480 with 1 Axes>"
      ]
     },
     "metadata": {},
     "output_type": "display_data"
    },
    {
     "data": {
      "image/png": "[encoded data removed]",
      "text/plain": [
       "<Figure size 640x480 with 1 Axes>"
      ]
     },
     "metadata": {},
     "output_type": "display_data"
    },
    {
     "data": {
      "image/png": "[encoded data removed]",
      "text/plain": [
       "<Figure size 640x480 with 1 Axes>"
      ]
     },
     "metadata": {},
     "output_type": "display_data"
    }
   ],
   "source": [
    "for i in df_categorical.columns:\n",
    "    sns.barplot(x= df_categorical[i].value_counts().index, y=df_categorical[i].value_counts()).set_title(i)\n",
    "    plt.show()"
   ]
  },
  {
   "cell_type": "code",
   "execution_count": 17,
   "id": "7cdc9bc2",
   "metadata": {
    "execution": {
     "iopub.execute_input": "2024-11-20T02:25:23.075083Z",
     "iopub.status.busy": "2024-11-20T02:25:23.074050Z",
     "iopub.status.idle": "2024-11-20T02:25:23.093977Z",
     "shell.execute_reply": "2024-11-20T02:25:23.092864Z"
    },
    "papermill": {
     "duration": 0.03628,
     "end_time": "2024-11-20T02:25:23.096176",
     "exception": false,
     "start_time": "2024-11-20T02:25:23.059896",
     "status": "completed"
    },
    "tags": []
   },
   "outputs": [
    {
     "data": {
      "text/html": [
       "<div>\n",
       "<style scoped>\n",
       "    .dataframe tbody tr th:only-of-type {\n",
       "        vertical-align: middle;\n",
       "    }\n",
       "\n",
       "    .dataframe tbody tr th {\n",
       "        vertical-align: top;\n",
       "    }\n",
       "\n",
       "    .dataframe thead th {\n",
       "        text-align: right;\n",
       "    }\n",
       "</style>\n",
       "<table border=\"1\" class=\"dataframe\">\n",
       "  <thead>\n",
       "    <tr style=\"text-align: right;\">\n",
       "      <th>Pclass</th>\n",
       "      <th>1</th>\n",
       "      <th>2</th>\n",
       "      <th>3</th>\n",
       "    </tr>\n",
       "    <tr>\n",
       "      <th>Survived</th>\n",
       "      <th></th>\n",
       "      <th></th>\n",
       "      <th></th>\n",
       "    </tr>\n",
       "  </thead>\n",
       "  <tbody>\n",
       "    <tr>\n",
       "      <th>0</th>\n",
       "      <td>80</td>\n",
       "      <td>97</td>\n",
       "      <td>372</td>\n",
       "    </tr>\n",
       "    <tr>\n",
       "      <th>1</th>\n",
       "      <td>136</td>\n",
       "      <td>87</td>\n",
       "      <td>119</td>\n",
       "    </tr>\n",
       "  </tbody>\n",
       "</table>\n",
       "</div>"
      ],
      "text/plain": [
       "Pclass      1   2    3\n",
       "Survived              \n",
       "0          80  97  372\n",
       "1         136  87  119"
      ]
     },
     "execution_count": 17,
     "metadata": {},
     "output_type": "execute_result"
    }
   ],
   "source": [
    "pd.pivot_table(train, index = \"Survived\", columns = \"Pclass\", values = \"Ticket\", aggfunc=  'count')"
   ]
  },
  {
   "cell_type": "code",
   "execution_count": 18,
   "id": "9bdca22e",
   "metadata": {
    "execution": {
     "iopub.execute_input": "2024-11-20T02:25:23.124524Z",
     "iopub.status.busy": "2024-11-20T02:25:23.124105Z",
     "iopub.status.idle": "2024-11-20T02:25:23.141119Z",
     "shell.execute_reply": "2024-11-20T02:25:23.139704Z"
    },
    "papermill": {
     "duration": 0.03363,
     "end_time": "2024-11-20T02:25:23.143508",
     "exception": false,
     "start_time": "2024-11-20T02:25:23.109878",
     "status": "completed"
    },
    "tags": []
   },
   "outputs": [
    {
     "data": {
      "text/html": [
       "<div>\n",
       "<style scoped>\n",
       "    .dataframe tbody tr th:only-of-type {\n",
       "        vertical-align: middle;\n",
       "    }\n",
       "\n",
       "    .dataframe tbody tr th {\n",
       "        vertical-align: top;\n",
       "    }\n",
       "\n",
       "    .dataframe thead th {\n",
       "        text-align: right;\n",
       "    }\n",
       "</style>\n",
       "<table border=\"1\" class=\"dataframe\">\n",
       "  <thead>\n",
       "    <tr style=\"text-align: right;\">\n",
       "      <th>Sex</th>\n",
       "      <th>female</th>\n",
       "      <th>male</th>\n",
       "    </tr>\n",
       "    <tr>\n",
       "      <th>Survived</th>\n",
       "      <th></th>\n",
       "      <th></th>\n",
       "    </tr>\n",
       "  </thead>\n",
       "  <tbody>\n",
       "    <tr>\n",
       "      <th>0</th>\n",
       "      <td>81</td>\n",
       "      <td>468</td>\n",
       "    </tr>\n",
       "    <tr>\n",
       "      <th>1</th>\n",
       "      <td>233</td>\n",
       "      <td>109</td>\n",
       "    </tr>\n",
       "  </tbody>\n",
       "</table>\n",
       "</div>"
      ],
      "text/plain": [
       "Sex       female  male\n",
       "Survived              \n",
       "0             81   468\n",
       "1            233   109"
      ]
     },
     "execution_count": 18,
     "metadata": {},
     "output_type": "execute_result"
    }
   ],
   "source": [
    "pd.pivot_table(train, index = \"Survived\", columns = \"Sex\", values = \"Ticket\", aggfunc=  'count')\n"
   ]
  },
  {
   "cell_type": "code",
   "execution_count": 19,
   "id": "d3aa0dc5",
   "metadata": {
    "execution": {
     "iopub.execute_input": "2024-11-20T02:25:23.172513Z",
     "iopub.status.busy": "2024-11-20T02:25:23.171526Z",
     "iopub.status.idle": "2024-11-20T02:25:23.188272Z",
     "shell.execute_reply": "2024-11-20T02:25:23.187127Z"
    },
    "papermill": {
     "duration": 0.033727,
     "end_time": "2024-11-20T02:25:23.190781",
     "exception": false,
     "start_time": "2024-11-20T02:25:23.157054",
     "status": "completed"
    },
    "tags": []
   },
   "outputs": [
    {
     "data": {
      "text/html": [
       "<div>\n",
       "<style scoped>\n",
       "    .dataframe tbody tr th:only-of-type {\n",
       "        vertical-align: middle;\n",
       "    }\n",
       "\n",
       "    .dataframe tbody tr th {\n",
       "        vertical-align: top;\n",
       "    }\n",
       "\n",
       "    .dataframe thead th {\n",
       "        text-align: right;\n",
       "    }\n",
       "</style>\n",
       "<table border=\"1\" class=\"dataframe\">\n",
       "  <thead>\n",
       "    <tr style=\"text-align: right;\">\n",
       "      <th>Embarked</th>\n",
       "      <th>C</th>\n",
       "      <th>Q</th>\n",
       "      <th>S</th>\n",
       "    </tr>\n",
       "    <tr>\n",
       "      <th>Survived</th>\n",
       "      <th></th>\n",
       "      <th></th>\n",
       "      <th></th>\n",
       "    </tr>\n",
       "  </thead>\n",
       "  <tbody>\n",
       "    <tr>\n",
       "      <th>0</th>\n",
       "      <td>75</td>\n",
       "      <td>47</td>\n",
       "      <td>427</td>\n",
       "    </tr>\n",
       "    <tr>\n",
       "      <th>1</th>\n",
       "      <td>93</td>\n",
       "      <td>30</td>\n",
       "      <td>217</td>\n",
       "    </tr>\n",
       "  </tbody>\n",
       "</table>\n",
       "</div>"
      ],
      "text/plain": [
       "Embarked   C   Q    S\n",
       "Survived             \n",
       "0         75  47  427\n",
       "1         93  30  217"
      ]
     },
     "execution_count": 19,
     "metadata": {},
     "output_type": "execute_result"
    }
   ],
   "source": [
    "\n",
    "pd.pivot_table(train, index = \"Survived\", columns = \"Embarked\", values = \"Ticket\", aggfunc=  'count')"
   ]
  },
  {
   "cell_type": "code",
   "execution_count": 20,
   "id": "761892eb",
   "metadata": {
    "execution": {
     "iopub.execute_input": "2024-11-20T02:25:23.220255Z",
     "iopub.status.busy": "2024-11-20T02:25:23.219867Z",
     "iopub.status.idle": "2024-11-20T02:25:23.228867Z",
     "shell.execute_reply": "2024-11-20T02:25:23.227763Z"
    },
    "papermill": {
     "duration": 0.026395,
     "end_time": "2024-11-20T02:25:23.230912",
     "exception": false,
     "start_time": "2024-11-20T02:25:23.204517",
     "status": "completed"
    },
    "tags": []
   },
   "outputs": [
    {
     "data": {
      "text/plain": [
       "0       NaN\n",
       "1       C85\n",
       "2       NaN\n",
       "3      C123\n",
       "4       NaN\n",
       "       ... \n",
       "886     NaN\n",
       "887     B42\n",
       "888     NaN\n",
       "889    C148\n",
       "890     NaN\n",
       "Name: Cabin, Length: 891, dtype: object"
      ]
     },
     "execution_count": 20,
     "metadata": {},
     "output_type": "execute_result"
    }
   ],
   "source": [
    "#Feature Engineering \n",
    "# 1) Simplify Cabins - if Cabin or purchase of tickets across multiple cabins imapct survival?\n",
    "# 2) Tickets- relationship between types of tickets and survival \n",
    "# 3) person's title related to survival?\n",
    "\n",
    "df_categorical.Cabin"
   ]
  },
  {
   "cell_type": "code",
   "execution_count": 21,
   "id": "acf8e887",
   "metadata": {
    "execution": {
     "iopub.execute_input": "2024-11-20T02:25:23.261464Z",
     "iopub.status.busy": "2024-11-20T02:25:23.261094Z",
     "iopub.status.idle": "2024-11-20T02:25:23.272714Z",
     "shell.execute_reply": "2024-11-20T02:25:23.271603Z"
    },
    "papermill": {
     "duration": 0.028934,
     "end_time": "2024-11-20T02:25:23.275003",
     "exception": false,
     "start_time": "2024-11-20T02:25:23.246069",
     "status": "completed"
    },
    "tags": []
   },
   "outputs": [
    {
     "data": {
      "text/plain": [
       "cabin_multiple\n",
       "0    687\n",
       "1    180\n",
       "2     16\n",
       "3      6\n",
       "4      2\n",
       "Name: count, dtype: int64"
      ]
     },
     "execution_count": 21,
     "metadata": {},
     "output_type": "execute_result"
    }
   ],
   "source": [
    "train['cabin_multiple']= train.Cabin.apply(lambda x:0 if pd.isna(x) else len(x.split(' ')))\n",
    "train['cabin_multiple'].value_counts()"
   ]
  },
  {
   "cell_type": "code",
   "execution_count": 22,
   "id": "9856c20c",
   "metadata": {
    "execution": {
     "iopub.execute_input": "2024-11-20T02:25:23.304422Z",
     "iopub.status.busy": "2024-11-20T02:25:23.304026Z",
     "iopub.status.idle": "2024-11-20T02:25:23.323847Z",
     "shell.execute_reply": "2024-11-20T02:25:23.322653Z"
    },
    "papermill": {
     "duration": 0.038165,
     "end_time": "2024-11-20T02:25:23.326418",
     "exception": false,
     "start_time": "2024-11-20T02:25:23.288253",
     "status": "completed"
    },
    "tags": []
   },
   "outputs": [
    {
     "data": {
      "text/html": [
       "<div>\n",
       "<style scoped>\n",
       "    .dataframe tbody tr th:only-of-type {\n",
       "        vertical-align: middle;\n",
       "    }\n",
       "\n",
       "    .dataframe tbody tr th {\n",
       "        vertical-align: top;\n",
       "    }\n",
       "\n",
       "    .dataframe thead th {\n",
       "        text-align: right;\n",
       "    }\n",
       "</style>\n",
       "<table border=\"1\" class=\"dataframe\">\n",
       "  <thead>\n",
       "    <tr style=\"text-align: right;\">\n",
       "      <th>cabin_multiple</th>\n",
       "      <th>0</th>\n",
       "      <th>1</th>\n",
       "      <th>2</th>\n",
       "      <th>3</th>\n",
       "      <th>4</th>\n",
       "    </tr>\n",
       "    <tr>\n",
       "      <th>Survived</th>\n",
       "      <th></th>\n",
       "      <th></th>\n",
       "      <th></th>\n",
       "      <th></th>\n",
       "      <th></th>\n",
       "    </tr>\n",
       "  </thead>\n",
       "  <tbody>\n",
       "    <tr>\n",
       "      <th>0</th>\n",
       "      <td>481.0</td>\n",
       "      <td>58.0</td>\n",
       "      <td>7.0</td>\n",
       "      <td>3.0</td>\n",
       "      <td>NaN</td>\n",
       "    </tr>\n",
       "    <tr>\n",
       "      <th>1</th>\n",
       "      <td>206.0</td>\n",
       "      <td>122.0</td>\n",
       "      <td>9.0</td>\n",
       "      <td>3.0</td>\n",
       "      <td>2.0</td>\n",
       "    </tr>\n",
       "  </tbody>\n",
       "</table>\n",
       "</div>"
      ],
      "text/plain": [
       "cabin_multiple      0      1    2    3    4\n",
       "Survived                                   \n",
       "0               481.0   58.0  7.0  3.0  NaN\n",
       "1               206.0  122.0  9.0  3.0  2.0"
      ]
     },
     "execution_count": 22,
     "metadata": {},
     "output_type": "execute_result"
    }
   ],
   "source": [
    "pd.pivot_table(train,index = \"Survived\", columns = \"cabin_multiple\", values = \"Ticket\", aggfunc = \"count\")"
   ]
  },
  {
   "cell_type": "code",
   "execution_count": 23,
   "id": "3ce84b3b",
   "metadata": {
    "execution": {
     "iopub.execute_input": "2024-11-20T02:25:23.355509Z",
     "iopub.status.busy": "2024-11-20T02:25:23.355071Z",
     "iopub.status.idle": "2024-11-20T02:25:23.361902Z",
     "shell.execute_reply": "2024-11-20T02:25:23.360744Z"
    },
    "papermill": {
     "duration": 0.024029,
     "end_time": "2024-11-20T02:25:23.364230",
     "exception": false,
     "start_time": "2024-11-20T02:25:23.340201",
     "status": "completed"
    },
    "tags": []
   },
   "outputs": [],
   "source": [
    "#creating categories based on the cabin letter \n",
    "train['cabin_adv'] = train.Cabin.apply(lambda x : str(x)[0])\n"
   ]
  },
  {
   "cell_type": "code",
   "execution_count": 24,
   "id": "31a90118",
   "metadata": {
    "execution": {
     "iopub.execute_input": "2024-11-20T02:25:23.393071Z",
     "iopub.status.busy": "2024-11-20T02:25:23.392701Z",
     "iopub.status.idle": "2024-11-20T02:25:23.402277Z",
     "shell.execute_reply": "2024-11-20T02:25:23.401069Z"
    },
    "papermill": {
     "duration": 0.027216,
     "end_time": "2024-11-20T02:25:23.404757",
     "exception": false,
     "start_time": "2024-11-20T02:25:23.377541",
     "status": "completed"
    },
    "tags": []
   },
   "outputs": [
    {
     "data": {
      "text/plain": [
       "cabin_adv\n",
       "n    687\n",
       "C     59\n",
       "B     47\n",
       "D     33\n",
       "E     32\n",
       "A     15\n",
       "F     13\n",
       "G      4\n",
       "T      1\n",
       "Name: count, dtype: int64"
      ]
     },
     "execution_count": 24,
     "metadata": {},
     "output_type": "execute_result"
    }
   ],
   "source": [
    "train['cabin_adv'].value_counts()"
   ]
  },
  {
   "cell_type": "code",
   "execution_count": 25,
   "id": "ca6a0971",
   "metadata": {
    "execution": {
     "iopub.execute_input": "2024-11-20T02:25:23.436008Z",
     "iopub.status.busy": "2024-11-20T02:25:23.435562Z",
     "iopub.status.idle": "2024-11-20T02:25:23.458723Z",
     "shell.execute_reply": "2024-11-20T02:25:23.457550Z"
    },
    "papermill": {
     "duration": 0.041727,
     "end_time": "2024-11-20T02:25:23.461237",
     "exception": false,
     "start_time": "2024-11-20T02:25:23.419510",
     "status": "completed"
    },
    "tags": []
   },
   "outputs": [
    {
     "data": {
      "text/html": [
       "<div>\n",
       "<style scoped>\n",
       "    .dataframe tbody tr th:only-of-type {\n",
       "        vertical-align: middle;\n",
       "    }\n",
       "\n",
       "    .dataframe tbody tr th {\n",
       "        vertical-align: top;\n",
       "    }\n",
       "\n",
       "    .dataframe thead th {\n",
       "        text-align: right;\n",
       "    }\n",
       "</style>\n",
       "<table border=\"1\" class=\"dataframe\">\n",
       "  <thead>\n",
       "    <tr style=\"text-align: right;\">\n",
       "      <th>cabin_adv</th>\n",
       "      <th>A</th>\n",
       "      <th>B</th>\n",
       "      <th>C</th>\n",
       "      <th>D</th>\n",
       "      <th>E</th>\n",
       "      <th>F</th>\n",
       "      <th>G</th>\n",
       "      <th>T</th>\n",
       "      <th>n</th>\n",
       "    </tr>\n",
       "    <tr>\n",
       "      <th>Survived</th>\n",
       "      <th></th>\n",
       "      <th></th>\n",
       "      <th></th>\n",
       "      <th></th>\n",
       "      <th></th>\n",
       "      <th></th>\n",
       "      <th></th>\n",
       "      <th></th>\n",
       "      <th></th>\n",
       "    </tr>\n",
       "  </thead>\n",
       "  <tbody>\n",
       "    <tr>\n",
       "      <th>0</th>\n",
       "      <td>8.0</td>\n",
       "      <td>12.0</td>\n",
       "      <td>24.0</td>\n",
       "      <td>8.0</td>\n",
       "      <td>8.0</td>\n",
       "      <td>5.0</td>\n",
       "      <td>2.0</td>\n",
       "      <td>1.0</td>\n",
       "      <td>481.0</td>\n",
       "    </tr>\n",
       "    <tr>\n",
       "      <th>1</th>\n",
       "      <td>7.0</td>\n",
       "      <td>35.0</td>\n",
       "      <td>35.0</td>\n",
       "      <td>25.0</td>\n",
       "      <td>24.0</td>\n",
       "      <td>8.0</td>\n",
       "      <td>2.0</td>\n",
       "      <td>NaN</td>\n",
       "      <td>206.0</td>\n",
       "    </tr>\n",
       "  </tbody>\n",
       "</table>\n",
       "</div>"
      ],
      "text/plain": [
       "cabin_adv    A     B     C     D     E    F    G    T      n\n",
       "Survived                                                    \n",
       "0          8.0  12.0  24.0   8.0   8.0  5.0  2.0  1.0  481.0\n",
       "1          7.0  35.0  35.0  25.0  24.0  8.0  2.0  NaN  206.0"
      ]
     },
     "execution_count": 25,
     "metadata": {},
     "output_type": "execute_result"
    }
   ],
   "source": [
    "pd.pivot_table(train, index = 'Survived', columns = 'cabin_adv', values = 'Name', aggfunc= 'count')"
   ]
  },
  {
   "cell_type": "code",
   "execution_count": 26,
   "id": "3314346c",
   "metadata": {
    "execution": {
     "iopub.execute_input": "2024-11-20T02:25:23.490339Z",
     "iopub.status.busy": "2024-11-20T02:25:23.489967Z",
     "iopub.status.idle": "2024-11-20T02:25:23.500948Z",
     "shell.execute_reply": "2024-11-20T02:25:23.499558Z"
    },
    "papermill": {
     "duration": 0.028389,
     "end_time": "2024-11-20T02:25:23.503343",
     "exception": false,
     "start_time": "2024-11-20T02:25:23.474954",
     "status": "completed"
    },
    "tags": []
   },
   "outputs": [],
   "source": [
    "#Feature Engineering \n",
    "train['Title'] = train['Name'].str.extract(' ([A-Za-z]+)\\.', expand=False)\n",
    "test['Title'] = test['Name'].str.extract(' ([A-Za-z]+)\\.', expand=False)\n"
   ]
  },
  {
   "cell_type": "code",
   "execution_count": 27,
   "id": "c6557ced",
   "metadata": {
    "execution": {
     "iopub.execute_input": "2024-11-20T02:25:23.534776Z",
     "iopub.status.busy": "2024-11-20T02:25:23.534349Z",
     "iopub.status.idle": "2024-11-20T02:25:23.544299Z",
     "shell.execute_reply": "2024-11-20T02:25:23.543159Z"
    },
    "papermill": {
     "duration": 0.028443,
     "end_time": "2024-11-20T02:25:23.546488",
     "exception": false,
     "start_time": "2024-11-20T02:25:23.518045",
     "status": "completed"
    },
    "tags": []
   },
   "outputs": [],
   "source": [
    "train['FamilySize'] = train['SibSp'] + train['Parch'] + 1\n",
    "test['FamilySize'] = test['SibSp'] + test['Parch'] + 1\n",
    "\n",
    "train['IsAlone'] = (train['FamilySize'] == 1).astype(int)\n",
    "test['IsAlone'] = (test['FamilySize'] == 1).astype(int)\n"
   ]
  },
  {
   "cell_type": "code",
   "execution_count": 28,
   "id": "56dceacd",
   "metadata": {
    "execution": {
     "iopub.execute_input": "2024-11-20T02:25:23.576878Z",
     "iopub.status.busy": "2024-11-20T02:25:23.576458Z",
     "iopub.status.idle": "2024-11-20T02:25:23.583859Z",
     "shell.execute_reply": "2024-11-20T02:25:23.582683Z"
    },
    "papermill": {
     "duration": 0.02497,
     "end_time": "2024-11-20T02:25:23.586149",
     "exception": false,
     "start_time": "2024-11-20T02:25:23.561179",
     "status": "completed"
    },
    "tags": []
   },
   "outputs": [],
   "source": [
    "train['FarePerPerson'] = train['Fare'] / train['FamilySize']\n",
    "test['FarePerPerson'] = test['Fare'] / test['FamilySize']\n"
   ]
  },
  {
   "cell_type": "code",
   "execution_count": 29,
   "id": "4a149a82",
   "metadata": {
    "execution": {
     "iopub.execute_input": "2024-11-20T02:25:23.617221Z",
     "iopub.status.busy": "2024-11-20T02:25:23.616852Z",
     "iopub.status.idle": "2024-11-20T02:25:23.634421Z",
     "shell.execute_reply": "2024-11-20T02:25:23.633453Z"
    },
    "papermill": {
     "duration": 0.036026,
     "end_time": "2024-11-20T02:25:23.637398",
     "exception": false,
     "start_time": "2024-11-20T02:25:23.601372",
     "status": "completed"
    },
    "tags": []
   },
   "outputs": [],
   "source": [
    "# Age Bins\n",
    "train['AgeBin'] = pd.cut(train['Age'], bins=[0, 12, 20, 40, 60, 80], labels=[1, 2, 3, 4, 5])\n",
    "test['AgeBin'] = pd.cut(test['Age'], bins=[0, 12, 20, 40, 60, 80], labels=[1, 2, 3, 4, 5])\n",
    "\n",
    "# Fare Bins\n",
    "train['FareBin'] = pd.qcut(train['Fare'], 4, labels=[1, 2, 3, 4])\n",
    "test['FareBin'] = pd.qcut(test['Fare'], 4, labels=[1, 2, 3, 4])\n"
   ]
  },
  {
   "cell_type": "code",
   "execution_count": 30,
   "id": "16aa7672",
   "metadata": {
    "execution": {
     "iopub.execute_input": "2024-11-20T02:25:23.667435Z",
     "iopub.status.busy": "2024-11-20T02:25:23.667070Z",
     "iopub.status.idle": "2024-11-20T02:25:23.682722Z",
     "shell.execute_reply": "2024-11-20T02:25:23.681763Z"
    },
    "papermill": {
     "duration": 0.034111,
     "end_time": "2024-11-20T02:25:23.685064",
     "exception": false,
     "start_time": "2024-11-20T02:25:23.650953",
     "status": "completed"
    },
    "tags": []
   },
   "outputs": [],
   "source": [
    "# One-hot encode Embarked and Title\n",
    "train = pd.get_dummies(train, columns=['Embarked', 'Title'], drop_first=True)\n",
    "test = pd.get_dummies(test, columns=['Embarked', 'Title'], drop_first=True)\n",
    "\n",
    "# Align columns between train and test\n",
    "test = test.reindex(columns=train.columns, fill_value=0)\n"
   ]
  },
  {
   "cell_type": "code",
   "execution_count": 31,
   "id": "b321170e",
   "metadata": {
    "execution": {
     "iopub.execute_input": "2024-11-20T02:25:23.715363Z",
     "iopub.status.busy": "2024-11-20T02:25:23.714980Z",
     "iopub.status.idle": "2024-11-20T02:25:23.723343Z",
     "shell.execute_reply": "2024-11-20T02:25:23.721847Z"
    },
    "papermill": {
     "duration": 0.027039,
     "end_time": "2024-11-20T02:25:23.725776",
     "exception": false,
     "start_time": "2024-11-20T02:25:23.698737",
     "status": "completed"
    },
    "tags": []
   },
   "outputs": [],
   "source": [
    "columns_to_drop = ['PassengerId', 'Name', 'Ticket', 'Cabin']\n",
    "train = train.drop(columns=columns_to_drop, axis=1)\n",
    "test = test.drop(columns=columns_to_drop, axis=1)"
   ]
  },
  {
   "cell_type": "code",
   "execution_count": 32,
   "id": "57807a4c",
   "metadata": {
    "execution": {
     "iopub.execute_input": "2024-11-20T02:25:23.755642Z",
     "iopub.status.busy": "2024-11-20T02:25:23.755175Z",
     "iopub.status.idle": "2024-11-20T02:25:23.763045Z",
     "shell.execute_reply": "2024-11-20T02:25:23.761754Z"
    },
    "papermill": {
     "duration": 0.025825,
     "end_time": "2024-11-20T02:25:23.765693",
     "exception": false,
     "start_time": "2024-11-20T02:25:23.739868",
     "status": "completed"
    },
    "tags": []
   },
   "outputs": [
    {
     "name": "stdout",
     "output_type": "stream",
     "text": [
      "Survived             int64\n",
      "Pclass               int64\n",
      "Sex                 object\n",
      "Age                float64\n",
      "SibSp                int64\n",
      "Parch                int64\n",
      "Fare               float64\n",
      "cabin_multiple       int64\n",
      "cabin_adv           object\n",
      "FamilySize           int64\n",
      "IsAlone              int64\n",
      "FarePerPerson      float64\n",
      "AgeBin            category\n",
      "FareBin           category\n",
      "Embarked_Q            bool\n",
      "Embarked_S            bool\n",
      "Title_Col             bool\n",
      "Title_Countess        bool\n",
      "Title_Don             bool\n",
      "Title_Dr              bool\n",
      "Title_Jonkheer        bool\n",
      "Title_Lady            bool\n",
      "Title_Major           bool\n",
      "Title_Master          bool\n",
      "Title_Miss            bool\n",
      "Title_Mlle            bool\n",
      "Title_Mme             bool\n",
      "Title_Mr              bool\n",
      "Title_Mrs             bool\n",
      "Title_Ms              bool\n",
      "Title_Rev             bool\n",
      "Title_Sir             bool\n",
      "dtype: object\n"
     ]
    }
   ],
   "source": [
    "print(train.dtypes)\n"
   ]
  },
  {
   "cell_type": "code",
   "execution_count": 33,
   "id": "07f6b4b1",
   "metadata": {
    "execution": {
     "iopub.execute_input": "2024-11-20T02:25:23.794567Z",
     "iopub.status.busy": "2024-11-20T02:25:23.794157Z",
     "iopub.status.idle": "2024-11-20T02:25:23.827191Z",
     "shell.execute_reply": "2024-11-20T02:25:23.826139Z"
    },
    "papermill": {
     "duration": 0.050506,
     "end_time": "2024-11-20T02:25:23.829802",
     "exception": false,
     "start_time": "2024-11-20T02:25:23.779296",
     "status": "completed"
    },
    "tags": []
   },
   "outputs": [
    {
     "name": "stdout",
     "output_type": "stream",
     "text": [
      "Survived          0\n",
      "Pclass            0\n",
      "Sex               0\n",
      "Age               0\n",
      "SibSp             0\n",
      "Parch             0\n",
      "Fare              0\n",
      "cabin_multiple    0\n",
      "cabin_adv         0\n",
      "FamilySize        0\n",
      "IsAlone           0\n",
      "FarePerPerson     0\n",
      "AgeBin            0\n",
      "FareBin           0\n",
      "Embarked_Q        0\n",
      "Embarked_S        0\n",
      "Title_Col         0\n",
      "Title_Countess    0\n",
      "Title_Don         0\n",
      "Title_Dr          0\n",
      "Title_Jonkheer    0\n",
      "Title_Lady        0\n",
      "Title_Major       0\n",
      "Title_Master      0\n",
      "Title_Miss        0\n",
      "Title_Mlle        0\n",
      "Title_Mme         0\n",
      "Title_Mr          0\n",
      "Title_Mrs         0\n",
      "Title_Ms          0\n",
      "Title_Rev         0\n",
      "Title_Sir         0\n",
      "dtype: int64\n",
      "Survived          0\n",
      "Pclass            0\n",
      "Sex               0\n",
      "Age               0\n",
      "SibSp             0\n",
      "Parch             0\n",
      "Fare              0\n",
      "cabin_multiple    0\n",
      "cabin_adv         0\n",
      "FamilySize        0\n",
      "IsAlone           0\n",
      "FarePerPerson     0\n",
      "AgeBin            0\n",
      "FareBin           0\n",
      "Embarked_Q        0\n",
      "Embarked_S        0\n",
      "Title_Col         0\n",
      "Title_Countess    0\n",
      "Title_Don         0\n",
      "Title_Dr          0\n",
      "Title_Jonkheer    0\n",
      "Title_Lady        0\n",
      "Title_Major       0\n",
      "Title_Master      0\n",
      "Title_Miss        0\n",
      "Title_Mlle        0\n",
      "Title_Mme         0\n",
      "Title_Mr          0\n",
      "Title_Mrs         0\n",
      "Title_Ms          0\n",
      "Title_Rev         0\n",
      "Title_Sir         0\n",
      "dtype: int64\n"
     ]
    }
   ],
   "source": [
    "# Fill missing numeric columns with 0\n",
    "numeric_cols = train.select_dtypes(include=['int64', 'float64']).columns\n",
    "train[numeric_cols] = train[numeric_cols].fillna(0)\n",
    "test[numeric_cols] = test[numeric_cols].fillna(0)\n",
    "\n",
    "# Fill missing categorical columns with the mode\n",
    "categorical_cols = train.select_dtypes(include=['category', 'object']).columns\n",
    "for col in categorical_cols:\n",
    "    train[col] = train[col].fillna(train[col].mode()[0])\n",
    "    test[col] = test[col].fillna(test[col].mode()[0])\n",
    "\n",
    "# Fill missing boolean columns with False\n",
    "bool_cols = train.select_dtypes(include=['bool']).columns\n",
    "train[bool_cols] = train[bool_cols].fillna(False)\n",
    "test[bool_cols] = test[bool_cols].fillna(False)\n",
    "\n",
    "# Verify no missing values remain\n",
    "print(train.isnull().sum())\n",
    "print(test.isnull().sum())\n"
   ]
  },
  {
   "cell_type": "code",
   "execution_count": 34,
   "id": "27458c95",
   "metadata": {
    "execution": {
     "iopub.execute_input": "2024-11-20T02:25:23.860105Z",
     "iopub.status.busy": "2024-11-20T02:25:23.859711Z",
     "iopub.status.idle": "2024-11-20T02:25:23.881884Z",
     "shell.execute_reply": "2024-11-20T02:25:23.880543Z"
    },
    "papermill": {
     "duration": 0.040523,
     "end_time": "2024-11-20T02:25:23.884426",
     "exception": false,
     "start_time": "2024-11-20T02:25:23.843903",
     "status": "completed"
    },
    "tags": []
   },
   "outputs": [
    {
     "name": "stdout",
     "output_type": "stream",
     "text": [
      "Train columns: Index(['Survived', 'Pclass', 'Age', 'SibSp', 'Parch', 'Fare', 'cabin_multiple',\n",
      "       'FamilySize', 'IsAlone', 'FarePerPerson', 'AgeBin', 'FareBin',\n",
      "       'Embarked_Q', 'Embarked_S', 'Title_Col', 'Title_Countess', 'Title_Don',\n",
      "       'Title_Dr', 'Title_Jonkheer', 'Title_Lady', 'Title_Major',\n",
      "       'Title_Master', 'Title_Miss', 'Title_Mlle', 'Title_Mme', 'Title_Mr',\n",
      "       'Title_Mrs', 'Title_Ms', 'Title_Rev', 'Title_Sir', 'Sex_male',\n",
      "       'cabin_adv_A', 'cabin_adv_B', 'cabin_adv_C', 'cabin_adv_D',\n",
      "       'cabin_adv_E', 'cabin_adv_F', 'cabin_adv_G', 'cabin_adv_T',\n",
      "       'cabin_adv_n'],\n",
      "      dtype='object')\n",
      "Test columns: Index(['Survived', 'Pclass', 'Age', 'SibSp', 'Parch', 'Fare', 'cabin_multiple',\n",
      "       'FamilySize', 'IsAlone', 'FarePerPerson', 'AgeBin', 'FareBin',\n",
      "       'Embarked_Q', 'Embarked_S', 'Title_Col', 'Title_Countess', 'Title_Don',\n",
      "       'Title_Dr', 'Title_Jonkheer', 'Title_Lady', 'Title_Major',\n",
      "       'Title_Master', 'Title_Miss', 'Title_Mlle', 'Title_Mme', 'Title_Mr',\n",
      "       'Title_Mrs', 'Title_Ms', 'Title_Rev', 'Title_Sir', 'Sex_male',\n",
      "       'cabin_adv_A', 'cabin_adv_B', 'cabin_adv_C', 'cabin_adv_D',\n",
      "       'cabin_adv_E', 'cabin_adv_F', 'cabin_adv_G', 'cabin_adv_T',\n",
      "       'cabin_adv_n'],\n",
      "      dtype='object')\n"
     ]
    }
   ],
   "source": [
    "# Combine train and test to ensure consistent encoding\n",
    "combined = pd.concat([train, test], axis=0, ignore_index=True)\n",
    "\n",
    "# One-hot encode categorical columns\n",
    "combined = pd.get_dummies(combined, columns=['Sex', 'cabin_adv'], drop_first=True)\n",
    "\n",
    "# Split back into train and test\n",
    "train = combined.loc[:len(train) - 1, :]\n",
    "test = combined.loc[len(train):, :]\n",
    "\n",
    "# Verify columns\n",
    "print(\"Train columns:\", train.columns)\n",
    "print(\"Test columns:\", test.columns)\n",
    "\n"
   ]
  },
  {
   "cell_type": "code",
   "execution_count": 35,
   "id": "41c63339",
   "metadata": {
    "execution": {
     "iopub.execute_input": "2024-11-20T02:25:23.915240Z",
     "iopub.status.busy": "2024-11-20T02:25:23.914843Z",
     "iopub.status.idle": "2024-11-20T02:25:25.783298Z",
     "shell.execute_reply": "2024-11-20T02:25:25.781982Z"
    },
    "papermill": {
     "duration": 1.887097,
     "end_time": "2024-11-20T02:25:25.785604",
     "exception": false,
     "start_time": "2024-11-20T02:25:23.898507",
     "status": "completed"
    },
    "tags": []
   },
   "outputs": [
    {
     "name": "stdout",
     "output_type": "stream",
     "text": [
      "Cross-validation accuracy: 0.8058\n"
     ]
    }
   ],
   "source": [
    "from sklearn.ensemble import RandomForestClassifier\n",
    "from sklearn.model_selection import cross_val_score\n",
    "\n",
    "rf_model = RandomForestClassifier(random_state=42, n_estimators=100)\n",
    "\n",
    "# cross-validation\n",
    "cv_scores = cross_val_score(rf_model, train.drop(['Survived'], axis=1), train['Survived'], cv=5, scoring='accuracy')\n",
    "\n",
    "print(f\"Cross-validation accuracy: {cv_scores.mean():.4f}\")\n"
   ]
  },
  {
   "cell_type": "code",
   "execution_count": 36,
   "id": "937d0422",
   "metadata": {
    "execution": {
     "iopub.execute_input": "2024-11-20T02:25:25.815276Z",
     "iopub.status.busy": "2024-11-20T02:25:25.814434Z",
     "iopub.status.idle": "2024-11-20T02:25:26.710205Z",
     "shell.execute_reply": "2024-11-20T02:25:26.708995Z"
    },
    "papermill": {
     "duration": 0.913612,
     "end_time": "2024-11-20T02:25:26.712986",
     "exception": false,
     "start_time": "2024-11-20T02:25:25.799374",
     "status": "completed"
    },
    "tags": []
   },
   "outputs": [
    {
     "data": {
      "image/png": "[encoded data removed]",
      "text/plain": [
       "<Figure size 1200x600 with 1 Axes>"
      ]
     },
     "metadata": {},
     "output_type": "display_data"
    }
   ],
   "source": [
    "#  Random Forest model to get feature importances\n",
    "rf_model = RandomForestClassifier(random_state=42, n_estimators=100)\n",
    "rf_model.fit(train.drop(['Survived'], axis=1), train['Survived'])\n",
    "\n",
    "importances = pd.Series(rf_model.feature_importances_, index=train.drop(['Survived'], axis=1).columns)\n",
    "importances.sort_values(ascending=False).plot(kind='bar', figsize=(12, 6), title=\"Feature Importances\");\n"
   ]
  },
  {
   "cell_type": "code",
   "execution_count": 37,
   "id": "4f09ea3f",
   "metadata": {
    "execution": {
     "iopub.execute_input": "2024-11-20T02:25:26.745812Z",
     "iopub.status.busy": "2024-11-20T02:25:26.745395Z",
     "iopub.status.idle": "2024-11-20T02:25:26.754235Z",
     "shell.execute_reply": "2024-11-20T02:25:26.753197Z"
    },
    "papermill": {
     "duration": 0.027726,
     "end_time": "2024-11-20T02:25:26.756719",
     "exception": false,
     "start_time": "2024-11-20T02:25:26.728993",
     "status": "completed"
    },
    "tags": []
   },
   "outputs": [],
   "source": [
    "# features with importance > 0.01\n",
    "important_features = importances[importances > 0.01].index\n",
    "train_reduced = train[important_features.tolist() + ['Survived']]\n",
    "test_reduced = test[important_features.tolist()]\n"
   ]
  },
  {
   "cell_type": "code",
   "execution_count": 38,
   "id": "0288620e",
   "metadata": {
    "execution": {
     "iopub.execute_input": "2024-11-20T02:25:26.788443Z",
     "iopub.status.busy": "2024-11-20T02:25:26.787457Z",
     "iopub.status.idle": "2024-11-20T02:27:07.675049Z",
     "shell.execute_reply": "2024-11-20T02:27:07.673552Z"
    },
    "papermill": {
     "duration": 100.921502,
     "end_time": "2024-11-20T02:27:07.692888",
     "exception": false,
     "start_time": "2024-11-20T02:25:26.771386",
     "status": "completed"
    },
    "tags": []
   },
   "outputs": [
    {
     "name": "stdout",
     "output_type": "stream",
     "text": [
      "Best Parameters: {'max_depth': None, 'min_samples_leaf': 2, 'min_samples_split': 10, 'n_estimators': 100}\n",
      "Best CV Accuracy: 0.8429\n"
     ]
    }
   ],
   "source": [
    "#Hyper parameter tuning \n",
    "from sklearn.model_selection import GridSearchCV\n",
    "\n",
    "# parameter grid\n",
    "param_grid = {\n",
    "    'n_estimators': [100, 200, 300],\n",
    "    'max_depth': [None, 10, 20, 30],\n",
    "    'min_samples_split': [2, 5, 10],\n",
    "    'min_samples_leaf': [1, 2, 4]\n",
    "}\n",
    "\n",
    "# Grid search with cross-validation\n",
    "grid_search = GridSearchCV(estimator=rf_model, param_grid=param_grid, cv=5, scoring='accuracy', n_jobs=-1)\n",
    "grid_search.fit(train_reduced.drop(['Survived'], axis=1), train_reduced['Survived'])\n",
    "\n",
    "# Best parameters and score\n",
    "print(f\"Best Parameters: {grid_search.best_params_}\")\n",
    "print(f\"Best CV Accuracy: {grid_search.best_score_:.4f}\")\n"
   ]
  },
  {
   "cell_type": "code",
   "execution_count": 39,
   "id": "a20810c7",
   "metadata": {
    "execution": {
     "iopub.execute_input": "2024-11-20T02:27:07.725266Z",
     "iopub.status.busy": "2024-11-20T02:27:07.724832Z",
     "iopub.status.idle": "2024-11-20T02:27:07.952758Z",
     "shell.execute_reply": "2024-11-20T02:27:07.951672Z"
    },
    "papermill": {
     "duration": 0.246817,
     "end_time": "2024-11-20T02:27:07.955115",
     "exception": false,
     "start_time": "2024-11-20T02:27:07.708298",
     "status": "completed"
    },
    "tags": []
   },
   "outputs": [
    {
     "data": {
      "text/html": [
       "<style>#sk-container-id-1 {color: black;background-color: white;}#sk-container-id-1 pre{padding: 0;}#sk-container-id-1 div.sk-toggleable {background-color: white;}#sk-container-id-1 label.sk-toggleable__label {cursor: pointer;display: block;width: 100%;margin-bottom: 0;padding: 0.3em;box-sizing: border-box;text-align: center;}#sk-container-id-1 label.sk-toggleable__label-arrow:before {content: \"▸\";float: left;margin-right: 0.25em;color: #696969;}#sk-container-id-1 label.sk-toggleable__label-arrow:hover:before {color: black;}#sk-container-id-1 div.sk-estimator:hover label.sk-toggleable__label-arrow:before {color: black;}#sk-container-id-1 div.sk-toggleable__content {max-height: 0;max-width: 0;overflow: hidden;text-align: left;background-color: #f0f8ff;}#sk-container-id-1 div.sk-toggleable__content pre {margin: 0.2em;color: black;border-radius: 0.25em;background-color: #f0f8ff;}#sk-container-id-1 input.sk-toggleable__control:checked~div.sk-toggleable__content {max-height: 200px;max-width: 100%;overflow: auto;}#sk-container-id-1 input.sk-toggleable__control:checked~label.sk-toggleable__label-arrow:before {content: \"▾\";}#sk-container-id-1 div.sk-estimator input.sk-toggleable__control:checked~label.sk-toggleable__label {background-color: #d4ebff;}#sk-container-id-1 div.sk-label input.sk-toggleable__control:checked~label.sk-toggleable__label {background-color: #d4ebff;}#sk-container-id-1 input.sk-hidden--visually {border: 0;clip: rect(1px 1px 1px 1px);clip: rect(1px, 1px, 1px, 1px);height: 1px;margin: -1px;overflow: hidden;padding: 0;position: absolute;width: 1px;}#sk-container-id-1 div.sk-estimator {font-family: monospace;background-color: #f0f8ff;border: 1px dotted black;border-radius: 0.25em;box-sizing: border-box;margin-bottom: 0.5em;}#sk-container-id-1 div.sk-estimator:hover {background-color: #d4ebff;}#sk-container-id-1 div.sk-parallel-item::after {content: \"\";width: 100%;border-bottom: 1px solid gray;flex-grow: 1;}#sk-container-id-1 div.sk-label:hover label.sk-toggleable__label {background-color: #d4ebff;}#sk-container-id-1 div.sk-serial::before {content: \"\";position: absolute;border-left: 1px solid gray;box-sizing: border-box;top: 0;bottom: 0;left: 50%;z-index: 0;}#sk-container-id-1 div.sk-serial {display: flex;flex-direction: column;align-items: center;background-color: white;padding-right: 0.2em;padding-left: 0.2em;position: relative;}#sk-container-id-1 div.sk-item {position: relative;z-index: 1;}#sk-container-id-1 div.sk-parallel {display: flex;align-items: stretch;justify-content: center;background-color: white;position: relative;}#sk-container-id-1 div.sk-item::before, #sk-container-id-1 div.sk-parallel-item::before {content: \"\";position: absolute;border-left: 1px solid gray;box-sizing: border-box;top: 0;bottom: 0;left: 50%;z-index: -1;}#sk-container-id-1 div.sk-parallel-item {display: flex;flex-direction: column;z-index: 1;position: relative;background-color: white;}#sk-container-id-1 div.sk-parallel-item:first-child::after {align-self: flex-end;width: 50%;}#sk-container-id-1 div.sk-parallel-item:last-child::after {align-self: flex-start;width: 50%;}#sk-container-id-1 div.sk-parallel-item:only-child::after {width: 0;}#sk-container-id-1 div.sk-dashed-wrapped {border: 1px dashed gray;margin: 0 0.4em 0.5em 0.4em;box-sizing: border-box;padding-bottom: 0.4em;background-color: white;}#sk-container-id-1 div.sk-label label {font-family: monospace;font-weight: bold;display: inline-block;line-height: 1.2em;}#sk-container-id-1 div.sk-label-container {text-align: center;}#sk-container-id-1 div.sk-container {/* jupyter's `normalize.less` sets `[hidden] { display: none; }` but bootstrap.min.css set `[hidden] { display: none !important; }` so we also need the `!important` here to be able to override the default hidden behavior on the sphinx rendered scikit-learn.org. See: https://github.com/scikit-learn/scikit-learn/issues/21755 */display: inline-block !important;position: relative;}#sk-container-id-1 div.sk-text-repr-fallback {display: none;}</style><div id=\"sk-container-id-1\" class=\"sk-top-container\"><div class=\"sk-text-repr-fallback\"><pre>RandomForestClassifier(min_samples_leaf=2, min_samples_split=10,\n",
       "                       random_state=42)</pre><b>In a Jupyter environment, please rerun this cell to show the HTML representation or trust the notebook. <br />On GitHub, the HTML representation is unable to render, please try loading this page with nbviewer.org.</b></div><div class=\"sk-container\" hidden><div class=\"sk-item\"><div class=\"sk-estimator sk-toggleable\"><input class=\"sk-toggleable__control sk-hidden--visually\" id=\"sk-estimator-id-1\" type=\"checkbox\" checked><label for=\"sk-estimator-id-1\" class=\"sk-toggleable__label sk-toggleable__label-arrow\">RandomForestClassifier</label><div class=\"sk-toggleable__content\"><pre>RandomForestClassifier(min_samples_leaf=2, min_samples_split=10,\n",
       "                       random_state=42)</pre></div></div></div></div></div>"
      ],
      "text/plain": [
       "RandomForestClassifier(min_samples_leaf=2, min_samples_split=10,\n",
       "                       random_state=42)"
      ]
     },
     "execution_count": 39,
     "metadata": {},
     "output_type": "execute_result"
    }
   ],
   "source": [
    "# final model with best parameters\n",
    "best_params = grid_search.best_params_\n",
    "final_model = RandomForestClassifier(\n",
    "    random_state=42,\n",
    "    n_estimators=best_params['n_estimators'],\n",
    "    max_depth=best_params['max_depth'],\n",
    "    min_samples_split=best_params['min_samples_split'],\n",
    "    min_samples_leaf=best_params['min_samples_leaf']\n",
    ")\n",
    "\n",
    "final_model.fit(train_reduced.drop(['Survived'], axis=1), train_reduced['Survived'])\n"
   ]
  },
  {
   "cell_type": "code",
   "execution_count": 40,
   "id": "b6fd6921",
   "metadata": {
    "execution": {
     "iopub.execute_input": "2024-11-20T02:27:07.988162Z",
     "iopub.status.busy": "2024-11-20T02:27:07.987771Z",
     "iopub.status.idle": "2024-11-20T02:27:08.027884Z",
     "shell.execute_reply": "2024-11-20T02:27:08.026473Z"
    },
    "papermill": {
     "duration": 0.059373,
     "end_time": "2024-11-20T02:27:08.030338",
     "exception": false,
     "start_time": "2024-11-20T02:27:07.970965",
     "status": "completed"
    },
    "tags": []
   },
   "outputs": [
    {
     "name": "stdout",
     "output_type": "stream",
     "text": [
      "Training Accuracy: 0.8945\n",
      "Confusion Matrix:\n",
      " [[519  30]\n",
      " [ 64 278]]\n",
      "\n",
      "Classification Report:\n",
      "               precision    recall  f1-score   support\n",
      "\n",
      "           0       0.89      0.95      0.92       549\n",
      "           1       0.90      0.81      0.86       342\n",
      "\n",
      "    accuracy                           0.89       891\n",
      "   macro avg       0.90      0.88      0.89       891\n",
      "weighted avg       0.89      0.89      0.89       891\n",
      "\n"
     ]
    }
   ],
   "source": [
    "from sklearn.metrics import accuracy_score, confusion_matrix, classification_report\n",
    "\n",
    "train_predictions = final_model.predict(train_reduced.drop(['Survived'], axis=1))\n",
    "\n",
    "# Evaluate performance on training set\n",
    "train_accuracy = accuracy_score(train_reduced['Survived'], train_predictions)\n",
    "print(f\"Training Accuracy: {train_accuracy:.4f}\")\n",
    "\n",
    "print(\"Confusion Matrix:\\n\", confusion_matrix(train_reduced['Survived'], train_predictions))\n",
    "print(\"\\nClassification Report:\\n\", classification_report(train_reduced['Survived'], train_predictions))\n"
   ]
  },
  {
   "cell_type": "code",
   "execution_count": 41,
   "id": "d645da74",
   "metadata": {
    "execution": {
     "iopub.execute_input": "2024-11-20T02:27:08.063414Z",
     "iopub.status.busy": "2024-11-20T02:27:08.063018Z",
     "iopub.status.idle": "2024-11-20T02:27:08.083387Z",
     "shell.execute_reply": "2024-11-20T02:27:08.082121Z"
    },
    "papermill": {
     "duration": 0.039869,
     "end_time": "2024-11-20T02:27:08.085900",
     "exception": false,
     "start_time": "2024-11-20T02:27:08.046031",
     "status": "completed"
    },
    "tags": []
   },
   "outputs": [],
   "source": [
    "\n",
    "test_predictions = final_model.predict(test_reduced)\n"
   ]
  },
  {
   "cell_type": "code",
   "execution_count": 42,
   "id": "16f91f3e",
   "metadata": {
    "execution": {
     "iopub.execute_input": "2024-11-20T02:27:08.118565Z",
     "iopub.status.busy": "2024-11-20T02:27:08.118189Z",
     "iopub.status.idle": "2024-11-20T02:27:08.137188Z",
     "shell.execute_reply": "2024-11-20T02:27:08.135952Z"
    },
    "papermill": {
     "duration": 0.038085,
     "end_time": "2024-11-20T02:27:08.139479",
     "exception": false,
     "start_time": "2024-11-20T02:27:08.101394",
     "status": "completed"
    },
    "tags": []
   },
   "outputs": [
    {
     "name": "stderr",
     "output_type": "stream",
     "text": [
      "/tmp/ipykernel_17/708985940.py:2: SettingWithCopyWarning: \n",
      "A value is trying to be set on a copy of a slice from a DataFrame.\n",
      "Try using .loc[row_indexer,col_indexer] = value instead\n",
      "\n",
      "See the caveats in the documentation: https://pandas.pydata.org/pandas-docs/stable/user_guide/indexing.html#returning-a-view-versus-a-copy\n",
      "  test_reduced['PassengerId'] = test_original['PassengerId']\n"
     ]
    }
   ],
   "source": [
    "test_original = pd.read_csv('/kaggle/input/titanic/test.csv')\n",
    "test_reduced['PassengerId'] = test_original['PassengerId']\n"
   ]
  },
  {
   "cell_type": "code",
   "execution_count": 43,
   "id": "63d8905a",
   "metadata": {
    "execution": {
     "iopub.execute_input": "2024-11-20T02:27:08.172788Z",
     "iopub.status.busy": "2024-11-20T02:27:08.172300Z",
     "iopub.status.idle": "2024-11-20T02:27:08.184106Z",
     "shell.execute_reply": "2024-11-20T02:27:08.182936Z"
    },
    "papermill": {
     "duration": 0.031359,
     "end_time": "2024-11-20T02:27:08.186643",
     "exception": false,
     "start_time": "2024-11-20T02:27:08.155284",
     "status": "completed"
    },
    "tags": []
   },
   "outputs": [],
   "source": [
    "submission = pd.DataFrame({'PassengerId': test_reduced['PassengerId'], 'Survived': test_predictions})\n",
    "submission.to_csv('submission.csv', index=False)\n"
   ]
  },
  {
   "cell_type": "code",
   "execution_count": null,
   "id": "918cb0c0",
   "metadata": {
    "papermill": {
     "duration": 0.015558,
     "end_time": "2024-11-20T02:27:08.218314",
     "exception": false,
     "start_time": "2024-11-20T02:27:08.202756",
     "status": "completed"
    },
    "tags": []
   },
   "outputs": [],
   "source": []
  }
 ],
 "metadata": {
  "kaggle": {
   "accelerator": "none",
   "dataSources": [
    {
     "databundleVersionId": 26502,
     "sourceId": 3136,
     "sourceType": "competition"
    }
   ],
   "dockerImageVersionId": 30786,
   "isGpuEnabled": false,
   "isInternetEnabled": true,
   "language": "python",
   "sourceType": "notebook"
  },
  "kernelspec": {
   "display_name": "Python 3",
   "language": "python",
   "name": "python3"
  },
  "language_info": {
   "codemirror_mode": {
    "name": "ipython",
    "version": 3
   },
   "file_extension": ".py",
   "mimetype": "text/x-python",
   "name": "python",
   "nbconvert_exporter": "python",
   "pygments_lexer": "ipython3",
   "version": "3.10.14"
  },
  "papermill": {
   "default_parameters": {},
   "duration": 124.746769,
   "end_time": "2024-11-20T02:27:10.856317",
   "environment_variables": {},
   "exception": null,
   "input_path": "__notebook__.ipynb",
   "output_path": "__notebook__.ipynb",
   "parameters": {},
   "start_time": "2024-11-20T02:25:06.109548",
   "version": "2.6.0"
  }
 },
 "nbformat": 4,
 "nbformat_minor": 5
}
